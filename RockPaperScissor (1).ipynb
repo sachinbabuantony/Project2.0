{
 "cells": [
  {
   "cell_type": "markdown",
   "id": "b86e48b3",
   "metadata": {},
   "source": [
    "# Rock Paper Scissors"
   ]
  },
  {
   "cell_type": "code",
   "execution_count": 33,
   "id": "f4a6d26c",
   "metadata": {},
   "outputs": [
    {
     "name": "stdout",
     "output_type": "stream",
     "text": [
      "Enter your Choice (rock,paper,scissors) :paper\n",
      "Computer Chose paper\n",
      "It's a tie\n",
      "Play again\n"
     ]
    }
   ],
   "source": [
    "import random\n",
    "\n",
    "PossibleChoices = [\"rock\",\"paper\",\"scissors\"]   #defining the values\n",
    "\n",
    "CompInput = random.choice(PossibleChoices)      #generating a random value\n",
    "\n",
    "UserInput = input(\"Enter your Choice (rock,paper,scissors) :\")   #asking the user for input\n",
    "\n",
    "print(\"Computer Chose {CompInput}\".format(CompInput=CompInput))\n",
    "\n",
    "if CompInput == UserInput:\n",
    "    print(\"It's a tie\")\n",
    "elif CompInput == \"rock\":\n",
    "    if UserInput == \"paper\":\n",
    "        print (\"You Won! paper covers rock\")\n",
    "    else:\n",
    "        print (\"You lost\")\n",
    "elif CompInput == \"paper\":\n",
    "    if UserInput == \"rock\":\n",
    "        print (\"You lost! paper covers rock\")\n",
    "    else:\n",
    "        print (\"You Won\")\n",
    "elif CompInput == \"scissors\":\n",
    "    if UserInput == \"paper\":\n",
    "        print (\"You lost! scissors cut paper\")\n",
    "    else:\n",
    "        print (\"You Won\")\n",
    "\n",
    "print(\"Play again\")\n"
   ]
  },
  {
   "cell_type": "markdown",
   "id": "a87846ff",
   "metadata": {},
   "source": []
  }
 ],
 "metadata": {
  "kernelspec": {
   "display_name": "Python 3",
   "language": "python",
   "name": "python3"
  },
  "language_info": {
   "codemirror_mode": {
    "name": "ipython",
    "version": 3
   },
   "file_extension": ".py",
   "mimetype": "text/x-python",
   "name": "python",
   "nbconvert_exporter": "python",
   "pygments_lexer": "ipython3",
   "version": "3.8.8"
  }
 },
 "nbformat": 4,
 "nbformat_minor": 5
}
